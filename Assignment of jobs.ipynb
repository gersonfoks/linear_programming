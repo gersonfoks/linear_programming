{
 "cells": [
  {
   "cell_type": "markdown",
   "metadata": {},
   "source": [
    "A scheduling problem. Taken from https://developers.google.com/optimization/assignment/assignment_example\n",
    "\n",
    "\n",
    "We have 5 five workers and 4 tasks and we want the most cost effective way of assigning the workers to each task. \n",
    "The workers, tasks and the associated costs are presented below:\n",
    "\n",
    "||||||\n",
    "|--- |--- |--- |--- |--- |\n",
    "||0|1|2|3|\n",
    "|0|90|80|75|70|\n",
    "|1|35|85|55|65|\n",
    "|2|125|95|90|95|\n",
    "|3|45|110|95|115|\n",
    "|4|50|100|90|100|\n",
    "\n",
    "We are going to use PuLP to find the best assignement\n"
   ]
  },
  {
   "cell_type": "code",
   "execution_count": 2,
   "metadata": {},
   "outputs": [],
   "source": [
    "from pulp import *"
   ]
  },
  {
   "cell_type": "code",
   "execution_count": 3,
   "metadata": {},
   "outputs": [],
   "source": [
    "costs = [\n",
    "    [90, 80, 75, 70],\n",
    "    [35, 85, 55, 65],\n",
    "    [125, 95, 90, 95],\n",
    "    [45, 110, 95, 115],\n",
    "    [50, 100, 90, 100],\n",
    "]\n",
    "num_workers = len(costs)\n",
    "num_tasks = len(costs[0])"
   ]
  },
  {
   "cell_type": "code",
   "execution_count": 4,
   "metadata": {},
   "outputs": [
    {
     "name": "stdout",
     "output_type": "stream",
     "text": [
      "{(0, 0): worker_task_(0,_0), (0, 1): worker_task_(0,_1), (0, 2): worker_task_(0,_2), (0, 3): worker_task_(0,_3), (1, 0): worker_task_(1,_0), (1, 1): worker_task_(1,_1), (1, 2): worker_task_(1,_2), (1, 3): worker_task_(1,_3), (2, 0): worker_task_(2,_0), (2, 1): worker_task_(2,_1), (2, 2): worker_task_(2,_2), (2, 3): worker_task_(2,_3), (3, 0): worker_task_(3,_0), (3, 1): worker_task_(3,_1), (3, 2): worker_task_(3,_2), (3, 3): worker_task_(3,_3), (4, 0): worker_task_(4,_0), (4, 1): worker_task_(4,_1), (4, 2): worker_task_(4,_2), (4, 3): worker_task_(4,_3)}\n"
     ]
    }
   ],
   "source": [
    "#Create the problem:\n",
    "prob = LpProblem(\"ScheduleProblem\", LpMinimize)\n",
    "\n",
    "# Create a tuple for each worker and each task:\n",
    "worker_task = [(worker, task) for worker in range(num_workers) for task in range(num_tasks)]\n",
    "\n",
    "# This time we are using binary variables. Each variable can be seen as a variable worker_task_(x, y) which \n",
    "# has a value 1 if worker x is assigned to task y. \n",
    "worker_task_vars = LpVariable.dicts(\"worker_task\", worker_task,0, 1, LpInteger)\n",
    "\n",
    "print(worker_task_vars)"
   ]
  },
  {
   "cell_type": "code",
   "execution_count": 5,
   "metadata": {},
   "outputs": [],
   "source": [
    "#As always first add the objective function\n",
    "prob += lpSum([costs[worker][task] * worker_task_vars[worker, task] for  worker,task in worker_task])"
   ]
  },
  {
   "cell_type": "code",
   "execution_count": 6,
   "metadata": {},
   "outputs": [],
   "source": [
    "#Each worker can only do one task\n",
    "\n",
    "for worker in range(num_workers):\n",
    "    prob += lpSum([worker_task_vars[worker, task] for  task in range(num_tasks)]) <= 1\n",
    "    \n",
    "#Each task needs to be done once\n",
    "\n",
    "for task in range(num_tasks):\n",
    "    prob += lpSum([worker_task_vars[worker, task] for  worker in range(num_workers)]) == 1\n"
   ]
  },
  {
   "cell_type": "code",
   "execution_count": 42,
   "metadata": {},
   "outputs": [
    {
     "name": "stdout",
     "output_type": "stream",
     "text": [
      "Status: Optimal\n",
      "worker_task_(0,_0) = 0.0\n",
      "worker_task_(0,_1) = 0.0\n",
      "worker_task_(0,_2) = 0.0\n",
      "worker_task_(0,_3) = 1.0\n",
      "worker_task_(1,_0) = 0.0\n",
      "worker_task_(1,_1) = 0.0\n",
      "worker_task_(1,_2) = 1.0\n",
      "worker_task_(1,_3) = 0.0\n",
      "worker_task_(2,_0) = 0.0\n",
      "worker_task_(2,_1) = 1.0\n",
      "worker_task_(2,_2) = 0.0\n",
      "worker_task_(2,_3) = 0.0\n",
      "worker_task_(3,_0) = 1.0\n",
      "worker_task_(3,_1) = 0.0\n",
      "worker_task_(3,_2) = 0.0\n",
      "worker_task_(3,_3) = 0.0\n",
      "worker_task_(4,_0) = 0.0\n",
      "worker_task_(4,_1) = 0.0\n",
      "worker_task_(4,_2) = 0.0\n",
      "worker_task_(4,_3) = 0.0\n"
     ]
    }
   ],
   "source": [
    "# The problem is solved using PuLP's choice of Solver\n",
    "prob.solve()\n",
    "# The status of the solution is printed to the screen\n",
    "print(\"Status:\", LpStatus[prob.status])\n",
    "# Each of the variables is printed with it's resolved optimum value\n",
    "for v in prob.variables():\n",
    "    print(v.name, \"=\", v.varValue)"
   ]
  },
  {
   "cell_type": "code",
   "execution_count": 43,
   "metadata": {},
   "outputs": [
    {
     "name": "stdout",
     "output_type": "stream",
     "text": [
      "worker 0 performs task 3 \n",
      "worker 1 performs task 2 \n",
      "worker 2 performs task 1 \n",
      "worker 3 performs task 0 \n"
     ]
    }
   ],
   "source": [
    "#Parse result\n",
    "for worker_task,v in worker_task_vars.items():\n",
    "    if v.varValue > 0:\n",
    "        print(\"worker {} performs task {} \".format(worker_task[0], worker_task[1]))\n"
   ]
  },
  {
   "cell_type": "code",
   "execution_count": null,
   "metadata": {},
   "outputs": [],
   "source": []
  }
 ],
 "metadata": {
  "kernelspec": {
   "display_name": "Python 3",
   "language": "python",
   "name": "python3"
  },
  "language_info": {
   "codemirror_mode": {
    "name": "ipython",
    "version": 3
   },
   "file_extension": ".py",
   "mimetype": "text/x-python",
   "name": "python",
   "nbconvert_exporter": "python",
   "pygments_lexer": "ipython3",
   "version": "3.8.3"
  }
 },
 "nbformat": 4,
 "nbformat_minor": 4
}
