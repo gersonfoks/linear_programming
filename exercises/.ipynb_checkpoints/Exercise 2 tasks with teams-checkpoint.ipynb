{
 "cells": [
  {
   "cell_type": "markdown",
   "metadata": {},
   "source": [
    "This time we do something similar, but we have teams.  Each team should perform 2 of the tasks, we still want to minimize the costs.\n",
    "\n",
    "Expected outcome:\n",
    "\n",
    "worker 0 performs task 2 with cost: 75 <br>\n",
    "worker 1 performs task 0 with cost: 35 <br>\n",
    "worker 4 performs task 3 with cost: 75 <br>\n",
    "worker 5 performs task 1 with cost: 65 <br>\n",
    "Total cost becomes: 250"
   ]
  },
  {
   "cell_type": "code",
   "execution_count": 1,
   "metadata": {},
   "outputs": [],
   "source": [
    "from pulp import *\n",
    "\n",
    "costs = [[90, 76, 75, 70],\n",
    "          [35, 85, 55, 65],\n",
    "          [125, 95, 90, 105],\n",
    "          [45, 110, 95, 115],\n",
    "          [60, 105, 80, 75],\n",
    "          [45, 65, 110, 95]]\n",
    "\n",
    "#Teams consisting of the members\n",
    "team1 = [0, 2, 4] \n",
    "team2 = [1, 3, 5]\n",
    "\n",
    "#Max tasks the team can perform. \n",
    "team_max = 2"
   ]
  },
  {
   "cell_type": "code",
   "execution_count": 2,
   "metadata": {},
   "outputs": [],
   "source": [
    "\n",
    "# Step 1: Create the problem\n",
    "\n"
   ]
  },
  {
   "cell_type": "code",
   "execution_count": 3,
   "metadata": {},
   "outputs": [],
   "source": [
    "# Step 2: Create two lists with the tasks and the workers\n",
    "\n",
    "#Step 3: Create a variable for each worker assigned to each task\n",
    "\n"
   ]
  },
  {
   "cell_type": "code",
   "execution_count": 4,
   "metadata": {},
   "outputs": [],
   "source": [
    "#Step 4: Create the objective functions"
   ]
  },
  {
   "cell_type": "code",
   "execution_count": 5,
   "metadata": {},
   "outputs": [],
   "source": [
    "#Step 5: Make sure that each worker can do 1 task\n",
    "\n",
    "#Step 6: Make sure that each tasks is done."
   ]
  },
  {
   "cell_type": "code",
   "execution_count": 6,
   "metadata": {},
   "outputs": [],
   "source": [
    "#Step 7: Add the team constraint (Each team can perform at most 2 tasks)"
   ]
  },
  {
   "cell_type": "code",
   "execution_count": null,
   "metadata": {},
   "outputs": [],
   "source": [
    "#Step 8: Call the solver and interpret the solution"
   ]
  }
 ],
 "metadata": {
  "kernelspec": {
   "display_name": "Python 3",
   "language": "python",
   "name": "python3"
  },
  "language_info": {
   "codemirror_mode": {
    "name": "ipython",
    "version": 3
   },
   "file_extension": ".py",
   "mimetype": "text/x-python",
   "name": "python",
   "nbconvert_exporter": "python",
   "pygments_lexer": "ipython3",
   "version": "3.8.3"
  }
 },
 "nbformat": 4,
 "nbformat_minor": 4
}
