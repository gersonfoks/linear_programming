{
 "cells": [
  {
   "cell_type": "markdown",
   "metadata": {},
   "source": [
    "This time each task has a certain length and each worker can only spent 15 hours in total"
   ]
  },
  {
   "cell_type": "code",
   "execution_count": 1,
   "metadata": {},
   "outputs": [],
   "source": [
    "from pulp import *\n",
    "\n",
    "costs = [[90, 76, 75, 70, 50, 74, 12, 68],\n",
    "          [35, 85, 55, 65, 48, 101, 70, 83],\n",
    "          [125, 95, 90, 105, 59, 120, 36, 73],\n",
    "          [45, 110, 95, 115, 104, 83, 37, 71],\n",
    "          [60, 105, 80, 75, 59, 62, 93, 88],\n",
    "          [45, 65, 110, 95, 47, 31, 81, 34],\n",
    "          [38, 51, 107, 41, 69, 99, 115, 48],\n",
    "          [47, 85, 57, 71, 92, 77, 109, 36],\n",
    "          [39, 63, 97, 49, 118, 56, 92, 61],\n",
    "          [47, 101, 71, 60, 88, 109, 52, 90]]\n",
    "\n",
    "sizes = [10, 7, 3, 12, 15, 4, 11, 5]\n",
    "total_size_max = 15"
   ]
  },
  {
   "cell_type": "code",
   "execution_count": null,
   "metadata": {},
   "outputs": [],
   "source": []
  }
 ],
 "metadata": {
  "kernelspec": {
   "display_name": "Python 3",
   "language": "python",
   "name": "python3"
  },
  "language_info": {
   "codemirror_mode": {
    "name": "ipython",
    "version": 3
   },
   "file_extension": ".py",
   "mimetype": "text/x-python",
   "name": "python",
   "nbconvert_exporter": "python",
   "pygments_lexer": "ipython3",
   "version": "3.8.3"
  }
 },
 "nbformat": 4,
 "nbformat_minor": 4
}
