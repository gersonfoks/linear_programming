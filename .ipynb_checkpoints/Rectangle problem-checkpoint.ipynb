{
 "cells": [
  {
   "cell_type": "markdown",
   "metadata": {},
   "source": [
    "Toy problem from https://developers.google.com/optimization/lp/glop#python\n",
    "The problem is we want to maximize a function 3x + 4y where x and y are within a triangle:\n",
    "![Feasable](./pictures/feasible_region.png)"
   ]
  },
  {
   "cell_type": "code",
   "execution_count": 1,
   "metadata": {},
   "outputs": [],
   "source": [
    "from pulp import *"
   ]
  },
  {
   "cell_type": "code",
   "execution_count": 2,
   "metadata": {},
   "outputs": [],
   "source": [
    "problem = LpProblem(\"rectangleProblem\", LpMaximize)\n",
    "x = LpVariable(\"x\", lowBound = 0) #Upperbound is infinity by default\n",
    "y = LpVariable(\"y\", lowBound = 0) #Upperbound is infinity by default"
   ]
  },
  {
   "cell_type": "code",
   "execution_count": 3,
   "metadata": {},
   "outputs": [],
   "source": [
    "# Always start with adding the function that we want to optimize\n",
    "problem += 3* x + 4 * y\n",
    "problem += 3 * x - y >= 0\n",
    "problem += x - y <= 2\n",
    "problem += x + 2*y <= 14"
   ]
  },
  {
   "cell_type": "code",
   "execution_count": 4,
   "metadata": {},
   "outputs": [
    {
     "name": "stdout",
     "output_type": "stream",
     "text": [
      "rectangleProblem:\n",
      "MAXIMIZE\n",
      "3*x + 4*y + 0\n",
      "SUBJECT TO\n",
      "_C1: 3 x - y >= 0\n",
      "\n",
      "_C2: x - y <= 2\n",
      "\n",
      "_C3: x + 2 y <= 14\n",
      "\n",
      "VARIABLES\n",
      "x Continuous\n",
      "y Continuous\n",
      "\n"
     ]
    },
    {
     "data": {
      "text/plain": [
       "1"
      ]
     },
     "execution_count": 4,
     "metadata": {},
     "output_type": "execute_result"
    }
   ],
   "source": [
    "print(problem)\n",
    "problem.solve()"
   ]
  },
  {
   "cell_type": "code",
   "execution_count": 11,
   "metadata": {},
   "outputs": [
    {
     "name": "stdout",
     "output_type": "stream",
     "text": [
      "x = 6.0\n",
      "y = 4.0\n",
      "value of 3x + 4y = 34.0\n"
     ]
    }
   ],
   "source": [
    "print(\"x = {}\".format(x.varValue))\n",
    "print(\"y = {}\".format(y.varValue))\n",
    "print(\"value of 3x + 4y = {}\".format(value(problem.objective)))"
   ]
  },
  {
   "cell_type": "markdown",
   "metadata": {},
   "source": [
    "So the solution looks like:\n",
    "\n",
    "![Feasable](./pictures/feasible_region_solution.png)"
   ]
  },
  {
   "cell_type": "code",
   "execution_count": null,
   "metadata": {},
   "outputs": [],
   "source": []
  }
 ],
 "metadata": {
  "kernelspec": {
   "display_name": "Python 3",
   "language": "python",
   "name": "python3"
  },
  "language_info": {
   "codemirror_mode": {
    "name": "ipython",
    "version": 3
   },
   "file_extension": ".py",
   "mimetype": "text/x-python",
   "name": "python",
   "nbconvert_exporter": "python",
   "pygments_lexer": "ipython3",
   "version": "3.8.3"
  }
 },
 "nbformat": 4,
 "nbformat_minor": 4
}
