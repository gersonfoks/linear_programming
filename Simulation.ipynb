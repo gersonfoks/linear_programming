{
 "cells": [
  {
   "cell_type": "code",
   "execution_count": 79,
   "metadata": {},
   "outputs": [],
   "source": [
    "from pulp import *\n",
    "import random\n",
    "from random import randint\n",
    "import collections\n",
    "import numpy as np"
   ]
  },
  {
   "cell_type": "code",
   "execution_count": 80,
   "metadata": {},
   "outputs": [],
   "source": [
    "\n",
    "\n",
    "# First we want to know which employee we can pick best on average. \n",
    "#Thus we simulate the actual work time and simulate what we want to pick\n",
    "def run_experiment():\n",
    "    global y_count\n",
    "    prob = LpProblem(\"ScheduleProblem\", LpMinimize)\n",
    "    employee_1 = LpVariable(\"employee 1\", 0, 1, LpInteger)\n",
    "    employee_2 = LpVariable(\"employee 2\", 0, 1, LpInteger)\n",
    "    \n",
    "    #create the time\n",
    "    X = 10\n",
    "    Y = 6 if random.random() > 0.5 else 12\n",
    "    if Y == 6:\n",
    "        y_count += 1\n",
    "    #Set objective\n",
    "    prob += X * employee_1 + Y * employee_2\n",
    "    \n",
    "    #Constraint:\n",
    "    prob += employee_1 + employee_2 == 1\n",
    "    \n",
    "    prob.solve()\n",
    "    for v in prob.variables():\n",
    "        if v.varValue > 0:\n",
    "            return v.name, value(prob.objective)"
   ]
  },
  {
   "cell_type": "code",
   "execution_count": 81,
   "metadata": {},
   "outputs": [
    {
     "name": "stdout",
     "output_type": "stream",
     "text": [
      "{'employee_2': 6.0, 'employee_1': 10.0}\n"
     ]
    }
   ],
   "source": [
    "results = []\n",
    "planning_results = []\n",
    "for i in range(10):\n",
    "    planning, outcome = run_experiment()\n",
    "    results.append((planning, outcome))\n",
    "    planning_results.append(planning)\n",
    "\n",
    "#Use simulation to compute expected costs of each (optimal) planning\n",
    "\n",
    "expected_costs = {}\n",
    "for planning in planning_results:\n",
    "    expected_costs[planning] = np.mean([r[1] for r in results if r[0] == planning])\n",
    "print(expected_costs)"
   ]
  },
  {
   "cell_type": "code",
   "execution_count": null,
   "metadata": {},
   "outputs": [],
   "source": [
    "# Say we have a budget of 10. What is the chance of going over the budget when picking employee 1?\n",
    "# Say we have a budget of \n",
    "\n"
   ]
  }
 ],
 "metadata": {
  "kernelspec": {
   "display_name": "Python 3",
   "language": "python",
   "name": "python3"
  },
  "language_info": {
   "codemirror_mode": {
    "name": "ipython",
    "version": 3
   },
   "file_extension": ".py",
   "mimetype": "text/x-python",
   "name": "python",
   "nbconvert_exporter": "python",
   "pygments_lexer": "ipython3",
   "version": "3.8.3"
  }
 },
 "nbformat": 4,
 "nbformat_minor": 4
}
