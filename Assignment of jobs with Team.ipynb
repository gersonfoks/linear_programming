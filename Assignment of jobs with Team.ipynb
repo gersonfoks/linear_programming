{
 "cells": [
  {
   "cell_type": "markdown",
   "metadata": {},
   "source": [
    "This time we do something similar, but we have teams.  Each team should perform 2 of the tasks, we still want to minimize the costs\n"
   ]
  },
  {
   "cell_type": "code",
   "execution_count": 11,
   "metadata": {},
   "outputs": [],
   "source": [
    "from pulp import *\n",
    "\n",
    "costs = [[90, 76, 75, 70],\n",
    "          [35, 85, 55, 65],\n",
    "          [125, 95, 90, 105],\n",
    "          [45, 110, 95, 115],\n",
    "          [60, 105, 80, 75],\n",
    "          [45, 65, 110, 95]]\n",
    "\n",
    "team1 = [0, 2, 4]\n",
    "team2 = [1, 3, 5]\n",
    "team_max = 2"
   ]
  },
  {
   "cell_type": "code",
   "execution_count": 12,
   "metadata": {},
   "outputs": [],
   "source": [
    "#Create the problem:\n",
    "\n",
    "prob = LpProblem(\"Team schedule Task\", LpMinimize)\n",
    "\n",
    "\n",
    "# First create the variables\n",
    "\n",
    "\n",
    "\n",
    "num_workers = len(costs)\n",
    "num_tasks = len(costs[0])\n",
    "\n",
    "# Create a variable for each worker and each task:\n",
    "worker_task = [(worker, task) for worker in range(num_workers) for task in range(num_tasks)]\n",
    "\n",
    "\n",
    "worker_task_vars = LpVariable.dicts(\"worker_task\", worker_task,0, 1, LpInteger)"
   ]
  },
  {
   "cell_type": "code",
   "execution_count": 13,
   "metadata": {},
   "outputs": [],
   "source": [
    "#As always first add the objective function\n",
    "\n",
    "prob += lpSum([costs[worker][task] * worker_task_vars[worker, task] for  worker,task in worker_task])\n",
    "\n",
    "#Each worker can only do one task\n",
    "\n",
    "for worker in range(num_workers):\n",
    "    prob += lpSum([worker_task_vars[worker, task] for  task in range(num_tasks)]) <= 1\n",
    "    \n",
    "#Each task needs to be done once\n",
    "\n",
    "for task in range(num_tasks):\n",
    "    prob += lpSum([worker_task_vars[worker, task] for  worker in range(num_workers)]) == 1"
   ]
  },
  {
   "cell_type": "code",
   "execution_count": 14,
   "metadata": {},
   "outputs": [
    {
     "name": "stdout",
     "output_type": "stream",
     "text": [
      "Status: Optimal\n",
      "worker_task_(0,_0) = 0.0\n",
      "worker_task_(0,_1) = 0.0\n",
      "worker_task_(0,_2) = 1.0\n",
      "worker_task_(0,_3) = 0.0\n",
      "worker_task_(1,_0) = 1.0\n",
      "worker_task_(1,_1) = 0.0\n",
      "worker_task_(1,_2) = 0.0\n",
      "worker_task_(1,_3) = 0.0\n",
      "worker_task_(2,_0) = 0.0\n",
      "worker_task_(2,_1) = 0.0\n",
      "worker_task_(2,_2) = 0.0\n",
      "worker_task_(2,_3) = 0.0\n",
      "worker_task_(3,_0) = 0.0\n",
      "worker_task_(3,_1) = 0.0\n",
      "worker_task_(3,_2) = 0.0\n",
      "worker_task_(3,_3) = 0.0\n",
      "worker_task_(4,_0) = 0.0\n",
      "worker_task_(4,_1) = 0.0\n",
      "worker_task_(4,_2) = 0.0\n",
      "worker_task_(4,_3) = 1.0\n",
      "worker_task_(5,_0) = 0.0\n",
      "worker_task_(5,_1) = 1.0\n",
      "worker_task_(5,_2) = 0.0\n",
      "worker_task_(5,_3) = 0.0\n"
     ]
    }
   ],
   "source": [
    "# We add the team constrain\n",
    "prob += lpSum([worker_task_vars[worker, task] for worker in team1 for task in range(num_tasks)]) <= 2\n",
    "prob += lpSum([worker_task_vars[worker, task] for worker in team2 for task in range(num_tasks)]) <= 2\n",
    "\n",
    "# The problem is solved using PuLP's choice of Solver\n",
    "prob.solve()\n",
    "# The status of the solution is printed to the screen\n",
    "print(\"Status:\", LpStatus[prob.status])\n",
    "# Each of the variables is printed with it's resolved optimum value\n",
    "for v in prob.variables():\n",
    "    print(v.name, \"=\", v.varValue)"
   ]
  },
  {
   "cell_type": "code",
   "execution_count": 15,
   "metadata": {},
   "outputs": [
    {
     "name": "stdout",
     "output_type": "stream",
     "text": [
      "worker 0 performs task 2 with cost: 75 <br>\n",
      "worker 1 performs task 0 with cost: 35 <br>\n",
      "worker 4 performs task 3 with cost: 75 <br>\n",
      "worker 5 performs task 1 with cost: 65 <br>\n",
      "Total cost becomes: 250\n"
     ]
    }
   ],
   "source": [
    "total_cost = 0\n",
    "#Parse result\n",
    "for worker_task,v in worker_task_vars.items():\n",
    "    if v.varValue > 0:\n",
    "        cost = costs[worker_task[0]][worker_task[1]]\n",
    "        total_cost += cost\n",
    "        print(\"worker {} performs task {} with cost: {} <br>\".format(worker_task[0], worker_task[1], cost))\n",
    "print(\"Total cost becomes: {}\".format(total_cost))\n",
    "    "
   ]
  },
  {
   "cell_type": "code",
   "execution_count": null,
   "metadata": {},
   "outputs": [],
   "source": []
  }
 ],
 "metadata": {
  "kernelspec": {
   "display_name": "Python 3",
   "language": "python",
   "name": "python3"
  },
  "language_info": {
   "codemirror_mode": {
    "name": "ipython",
    "version": 3
   },
   "file_extension": ".py",
   "mimetype": "text/x-python",
   "name": "python",
   "nbconvert_exporter": "python",
   "pygments_lexer": "ipython3",
   "version": "3.8.3"
  }
 },
 "nbformat": 4,
 "nbformat_minor": 4
}
